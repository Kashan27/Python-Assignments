{
 "cells": [
  {
   "cell_type": "code",
   "execution_count": 60,
   "id": "b49ecf9d",
   "metadata": {},
   "outputs": [
    {
     "name": "stdout",
     "output_type": "stream",
     "text": [
      "Twinkle, twinkle, little star, \n",
      " \t How I wonder what you are!\n",
      " \t\t Up above the world so high,\n",
      " \t\t Like a diamond in the sky.\n",
      " Twinkle, twinkle, little star,\n",
      " \t How I wonder what you are\n"
     ]
    }
   ],
   "source": [
    "#1. Write a Python program to print the following string in a specific format (see the output).\n",
    "#Twinkle, twinkle, little star,\n",
    "#How I wonder what you are!\n",
    "#Up above the world so high,\n",
    "#Like a diamond in the sky.\n",
    "#Twinkle, twinkle, little star,\n",
    "#How I wonder what you are\n",
    "\n",
    "print(\"Twinkle, twinkle, little star, \\n \\t How I wonder what you are!\\n \\t\\t Up above the world so high,\\n \\t\\t Like a diamond in the sky.\\n Twinkle, twinkle, little star,\\n \\t How I wonder what you are\")"
   ]
  },
  {
   "cell_type": "code",
   "execution_count": 61,
   "id": "ae28f012",
   "metadata": {},
   "outputs": [
    {
     "name": "stdout",
     "output_type": "stream",
     "text": [
      "3.8.8\n"
     ]
    }
   ],
   "source": [
    "#2. Write a Python program to get the Python version you are using\n",
    "from platform import python_version\n",
    "print(python_version())"
   ]
  },
  {
   "cell_type": "code",
   "execution_count": 54,
   "id": "043e1cd2",
   "metadata": {},
   "outputs": [
    {
     "name": "stdout",
     "output_type": "stream",
     "text": [
      "Today's date & Time: \n",
      " 2021-10-24 14:36:14.120460\n"
     ]
    }
   ],
   "source": [
    "#3. Write a Python program to display the current date and time.\n",
    "from datetime import date\n",
    "from datetime import datetime\n",
    "DT = datetime.now()\n",
    "print(\"Today's date & Time:\",\"\\n\" , DT)"
   ]
  },
  {
   "cell_type": "code",
   "execution_count": 59,
   "id": "9f6139a8",
   "metadata": {},
   "outputs": [
    {
     "name": "stdout",
     "output_type": "stream",
     "text": [
      "Enter the radius20\n",
      "A = 1256.0\n"
     ]
    }
   ],
   "source": [
    "#4. Write a Python program which accepts the radius of a circle from the user and compute the area.\n",
    "radius = int(input(\"Enter the radius\"))**2\n",
    "print(\"A =\" , radius * 3.14 )"
   ]
  },
  {
   "cell_type": "code",
   "execution_count": 69,
   "id": "ce49d886",
   "metadata": {},
   "outputs": [
    {
     "name": "stdout",
     "output_type": "stream",
     "text": [
      "Enter your first nameSir\n",
      "Enter your Last nameAli\n",
      "Ali Sir\n"
     ]
    }
   ],
   "source": [
    "#5. Write a Python program which accepts the user's first and last name and print them in reverse order with a space between them.\n",
    "Fname = input(\"Enter your first name\");\n",
    "Lname = input(\"Enter your Last name\");\n",
    "print(Lname +\" \"+ Fname)"
   ]
  },
  {
   "cell_type": "code",
   "execution_count": 73,
   "id": "8a843afa",
   "metadata": {},
   "outputs": [
    {
     "name": "stdout",
     "output_type": "stream",
     "text": [
      "First Num12\n",
      "Second Num66\n",
      "The sum of a and b is 78\n"
     ]
    }
   ],
   "source": [
    "#6. Write a python program which takes two inputs from user and print them addition\n",
    "a = int(input(\"First Num\"))\n",
    "b = int(input(\"Second Num\"))\n",
    "print(\"The sum of a and b is \" + str(a + b))"
   ]
  },
  {
   "cell_type": "code",
   "execution_count": 4,
   "id": "4e09ef3d",
   "metadata": {},
   "outputs": [
    {
     "name": "stdout",
     "output_type": "stream",
     "text": [
      "Enter Eng Marks105\n",
      "Enter Urdu Marks100\n",
      "Enter math Marks100\n",
      "Enter Isl Marks100\n",
      "Enter Sci Marks100\n",
      "Your Percentage is 101 % \n",
      " and\n",
      "Percentage is not correct\n"
     ]
    }
   ],
   "source": [
    "#7. Write a program which takes 5 inputs from user for different subject’s marks, total it\n",
    "#and generate mark sheet using grades\n",
    "eng = input(\"Enter Eng Marks\");\n",
    "urdu = input(\"Enter Urdu Marks\");\n",
    "math = input(\"Enter math Marks\");\n",
    "Isl = input(\"Enter Isl Marks\");\n",
    "Sci = input(\"Enter Sci Marks\");\n",
    "Total = 500;\n",
    "marks_gain = int(eng) +int(urdu) + int(math) + int(Isl) + int(Sci);\n",
    "Percent = marks_gain / Total * 100;\n",
    "print(\"Your Percentage is\",round(Percent),\"% \\n and\")\n",
    "if Percent < 100 and Percent >= 80:\n",
    "    print(\"You have got 'A+' Grade\")\n",
    "elif Percent < 80 and Percent >= 70:\n",
    "    print(\"You have got 'A' Grade\")\n",
    "elif Percent < 70 and Percent >= 60:\n",
    "    print(\"You have got 'B' Grade\")\n",
    "elif Percent < 60 and Percent >= 50:\n",
    "    print(\"You have got 'C' Grade\")\n",
    "elif Percent < 50 and Percent >= 40:\n",
    "    print(\"You have got 'D' Grade\")\n",
    "elif Percent < 40 :\n",
    "    print(\"You have got 'Failed'\") \n",
    "else:\n",
    "    print(\"Percentage is not correct\")"
   ]
  },
  {
   "cell_type": "code",
   "execution_count": 16,
   "id": "9470106b",
   "metadata": {},
   "outputs": [
    {
     "name": "stdout",
     "output_type": "stream",
     "text": [
      "Enter a number19\n",
      "It is Odd Number\n"
     ]
    }
   ],
   "source": [
    "#8. Write a program which take input from user and identify that the given number is even\n",
    "#or odd?\n",
    "a = int(input(\"Enter a number\"))\n",
    "if a%2 == 1:\n",
    "    print(\"It is Odd Number\")\n",
    "else:\n",
    "    print(\"it is Even number\")\n"
   ]
  },
  {
   "cell_type": "code",
   "execution_count": 17,
   "id": "6b0ed0c7",
   "metadata": {},
   "outputs": [
    {
     "name": "stdout",
     "output_type": "stream",
     "text": [
      "8\n"
     ]
    }
   ],
   "source": [
    "#9. Write a program which print the length of the list?\n",
    "arr = [1 , 3 , 4 , 6 , 6 , 8 , 9 , 8]\n",
    "print(len(arr))"
   ]
  },
  {
   "cell_type": "code",
   "execution_count": 40,
   "id": "ac9b4fb3",
   "metadata": {},
   "outputs": [
    {
     "name": "stdout",
     "output_type": "stream",
     "text": [
      "45\n"
     ]
    }
   ],
   "source": [
    "#10.Write a Python program to sum all the numeric items in a list?\n",
    "arr = [1 , 3 , 4 , 6 , 6 , 8 , 9 , 8]\n",
    "total = 0\n",
    "for x , value in enumerate(arr):\n",
    "    total = total + value    \n",
    "print(total)\n",
    "    "
   ]
  },
  {
   "cell_type": "code",
   "execution_count": 46,
   "id": "c3577ffc",
   "metadata": {},
   "outputs": [
    {
     "name": "stdout",
     "output_type": "stream",
     "text": [
      "500\n"
     ]
    }
   ],
   "source": [
    "#11.Write a Python program to get the largest number from a numeric list.\n",
    "arr = [100 , 500 , 200 , 15 , 47 , 98]\n",
    "print(max(arr))"
   ]
  },
  {
   "cell_type": "code",
   "execution_count": 49,
   "id": "3a86d7ac",
   "metadata": {},
   "outputs": [
    {
     "name": "stdout",
     "output_type": "stream",
     "text": [
      "1\n",
      "1\n",
      "2\n",
      "3\n"
     ]
    }
   ],
   "source": [
    "#12. Take a list, say for example this one:\n",
    "#a = [1, 1, 2, 3, 5, 8, 13, 21, 34, 55, 89]\n",
    "#Write a program that prints out all the elements of the list that are less than 5.\n",
    "\n",
    "a = [1, 1, 2, 3, 5, 8, 13, 21, 34, 55, 89]\n",
    "for x,value in enumerate(a):\n",
    "    if value < 5:\n",
    "        print(value)"
   ]
  },
  {
   "cell_type": "code",
   "execution_count": null,
   "id": "0f977df7",
   "metadata": {},
   "outputs": [],
   "source": []
  }
 ],
 "metadata": {
  "interpreter": {
   "hash": "875273d28ce3d7adbb04f7ac2e82fd903f14c5a717ba100df4b92229ec73ee99"
  },
  "kernelspec": {
   "display_name": "Python 3",
   "language": "python",
   "name": "python3"
  },
  "language_info": {
   "codemirror_mode": {
    "name": "ipython",
    "version": 3
   },
   "file_extension": ".py",
   "mimetype": "text/x-python",
   "name": "python",
   "nbconvert_exporter": "python",
   "pygments_lexer": "ipython3",
   "version": "3.8.8"
  }
 },
 "nbformat": 4,
 "nbformat_minor": 5
}
